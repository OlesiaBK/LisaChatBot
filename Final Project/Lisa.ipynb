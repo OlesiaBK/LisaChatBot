{
 "cells": [
  {
   "cell_type": "markdown",
   "metadata": {},
   "source": [
    "# Lisa Project \n"
   ]
  },
  {
   "cell_type": "markdown",
   "metadata": {},
   "source": [
    "Description: Lisa is a chatbot, a bakery shop assistant. Lisa can talk to you and help you order products from Lisa's bakery's menu.\n",
    "\n",
    "Note: Some of Lisa's conversation training occurs in DialogFlow and is mainly used as a prompt-response bank. Here is Lisa's token ID: 0a5c287f6a0648b587eb4a9a12c7dee8 \n",
    "\n",
    "\n",
    "\n"
   ]
  },
  {
   "cell_type": "code",
   "execution_count": 3,
   "metadata": {},
   "outputs": [],
   "source": [
    "from my_module.functions import *\n",
    "\n"
   ]
  },
  {
   "cell_type": "code",
   "execution_count": 4,
   "metadata": {},
   "outputs": [
    {
     "name": "stdout",
     "output_type": "stream",
     "text": [
      "Good morning, you are in the bakery shop\n",
      "Enter your name: Olesia\n",
      "Olesia  welcome\n",
      "Enter ur address:Gilman Drive\n",
      "address Gilman Drive is saved\n",
      "Enter ur phone:123243932\n",
      "thx, we have saved phone:123243932\n",
      "\n",
      "call menu - write \"menu\"\n",
      "if u wanna quite - \"quit\"\n",
      "\n",
      "Enter your message: menu\n",
      "Cheese Cake $7\n",
      "Coffee $3\n",
      "Pancakes $5\n",
      "Cookie $3\n",
      "Choose product Cookie\n",
      "Total order: 3$. Thank you for your order. See you next time.\n",
      "\n",
      "call menu - write \"menu\"\n",
      "if u wanna quite - \"quit\"\n",
      "\n"
     ]
    },
    {
     "data": {
      "application/vnd.jupyter.widget-view+json": {
       "model_id": "2d6d5210713a4f71b077c2e055d0dedb",
       "version_major": 2,
       "version_minor": 0
      },
      "text/plain": [
       "Image(value=b'\\xff\\xd8\\xff\\xe0\\x00\\x10JFIF\\x00\\x01\\x01\\x01\\x00H\\x00H\\x00\\x00\\xff\\xdb\\x00C\\x00\\x08\\x06\\x06\\x07\\…"
      ]
     },
     "metadata": {},
     "output_type": "display_data"
    },
    {
     "name": "stdout",
     "output_type": "stream",
     "text": [
      "Enter your message: Pancakes\n",
      "Total order: 8$. Thank you for your order. See you next time.\n",
      "\n",
      "call menu - write \"menu\"\n",
      "if u wanna quite - \"quit\"\n",
      "\n"
     ]
    },
    {
     "data": {
      "application/vnd.jupyter.widget-view+json": {
       "model_id": "f44c57655bbd493792de3fae86dc1c26",
       "version_major": 2,
       "version_minor": 0
      },
      "text/plain": [
       "Image(value=b'\\xff\\xd8\\xff\\xe0\\x00\\x10JFIF\\x00\\x01\\x01\\x01\\x00H\\x00H\\x00\\x00\\xff\\xdb\\x00C\\x00\\x08\\x06\\x06\\x07\\…"
      ]
     },
     "metadata": {},
     "output_type": "display_data"
    },
    {
     "name": "stdout",
     "output_type": "stream",
     "text": [
      "Enter your message: quit\n",
      " \n",
      "    Nice Talking to you! Goodbye!\n",
      "    Bye\n"
     ]
    }
   ],
   "source": [
    "# Uncomment the function below to talk!\n",
    "call_lisa() "
   ]
  },
  {
   "cell_type": "code",
   "execution_count": 6,
   "metadata": {},
   "outputs": [],
   "source": [
    "# Talk to Lisa yourself by uncomenting the function below.\n",
    "#call_lisa()"
   ]
  },
  {
   "cell_type": "markdown",
   "metadata": {},
   "source": [
    "Extra Credit \n",
    "Replace all of this text with a brief explanation (~3 sentences) of:\n",
    "Your Python Background: I have never programmed before, not only in Python, anywhere at all.\n",
    "\n",
    "How your project went above and beyond the requirements of the project and/or how you challenged yourself \n",
    "to learn something new with the final project:\n",
    "\n",
    "This project uses a novel platform not discussed in class (Dialogflow).\n",
    "Has a clear structure/ organization/ uses an imbedded image.\n",
    "For my level of programming, it is perhaps significant."
   ]
  },
  {
   "cell_type": "code",
   "execution_count": null,
   "metadata": {},
   "outputs": [],
   "source": []
  }
 ],
 "metadata": {
  "kernelspec": {
   "display_name": "Python 3",
   "language": "python",
   "name": "python3"
  },
  "language_info": {
   "codemirror_mode": {
    "name": "ipython",
    "version": 3
   },
   "file_extension": ".py",
   "mimetype": "text/x-python",
   "name": "python",
   "nbconvert_exporter": "python",
   "pygments_lexer": "ipython3",
   "version": "3.6.7"
  }
 },
 "nbformat": 4,
 "nbformat_minor": 2
}
